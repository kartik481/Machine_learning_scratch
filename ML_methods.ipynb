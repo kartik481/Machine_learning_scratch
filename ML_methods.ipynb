{
 "cells": [
  {
   "cell_type": "code",
   "execution_count": 1,
   "id": "124e9f66-7a03-4279-a86c-3ade7859ab8b",
   "metadata": {},
   "outputs": [],
   "source": [
    "## Importing the required libraries\n",
    "import numpy as np\n",
    "import random\n",
    "import pandas as pd\n",
    "import matplotlib.pyplot as plt\n",
    "import seaborn as sns\n",
    "from sklearn import datasets\n",
    "\n",
    "np.random.seed(10)\n",
    "\n",
    "iris = datasets.load_iris() ## Importing the dataset"
   ]
  },
  {
   "cell_type": "code",
   "execution_count": 2,
   "id": "5ec04118-c8c0-4e0b-aac2-5f1bdfd0b3ff",
   "metadata": {},
   "outputs": [],
   "source": [
    "Data = np.concatenate((iris.data, iris.target[:,None]), axis=1)\n",
    "\n",
    "# Shuffling the data \n",
    "np.random.shuffle(Data)\n",
    "\n",
    "## Slicing the Dataset as required for labels \n",
    "X = Data[:,:4]\n",
    "yy = Data[:,4]\n",
    " \n",
    "## Scaling the data to make gradient descent work smoothly\n",
    "\n",
    "X = (X - X.min(axis=0)) / (X.max(axis=0) - X.min(axis=0))"
   ]
  },
  {
   "cell_type": "code",
   "execution_count": 3,
   "id": "8ec43a6e-6e13-46f7-9446-afdf314d58e8",
   "metadata": {},
   "outputs": [],
   "source": [
    "## Data is already cleaned so no need of preprocessing\n",
    "X_train = X[:100,:]\n",
    "X_val = X[100:130,:]\n",
    "X_test = X[130:150,:]\n",
    "\n",
    "yy_train = yy[:100]\n",
    "yy_val = yy[100:130]\n",
    "yy_test = yy[130:150]\n"
   ]
  },
  {
   "cell_type": "code",
   "execution_count": 4,
   "id": "de351873-2301-4f83-8058-3bd65f48554d",
   "metadata": {},
   "outputs": [],
   "source": [
    "## Linear regression Using the least square method \n",
    "\n",
    "def lin_reg(X, yy, alpha):\n",
    "    k = len(X[1])\n",
    "    yy = np.concatenate((yy, np.zeros(k))) \n",
    "    z_k = np.sqrt(alpha) * np.eye(k)\n",
    "    X = np.vstack((X,z_k))  \n",
    "    \n",
    "    b = np.concatenate((np.ones(len(X)-k), np.zeros(k)))[:,None]\n",
    "\n",
    "    X = np.insert(X,[0],b,axis=1)\n",
    "\n",
    "    w_fit=np.linalg.lstsq(X, yy, rcond=None)[0]\n",
    "    \n",
    "    \n",
    "    return w_fit[1:], w_fit[0] \n",
    "    "
   ]
  },
  {
   "cell_type": "code",
   "execution_count": 5,
   "id": "a8c8a8d6-e16d-4ed1-ae38-be91a202bcb4",
   "metadata": {},
   "outputs": [
    {
     "name": "stdout",
     "output_type": "stream",
     "text": [
      "Bias is: -0.02385942299664876\n",
      "Weights are: \n",
      " [ 0.22334537 -0.26152559  0.92774672  1.30104487]\n"
     ]
    }
   ],
   "source": [
    "\n",
    "alpha = 1 ## value for lambda parameter\n",
    "\n",
    "## Extracting the required parameters\n",
    "ww0, bb0 = lin_reg(X_train, yy_train, alpha)\n",
    "\n",
    "print(\"Bias is:\",bb0)\n",
    "print(\"Weights are:\",\"\\n\",ww0)"
   ]
  },
  {
   "cell_type": "code",
   "execution_count": 6,
   "id": "6d96c880-b7e2-4f95-946c-f9245b06dae1",
   "metadata": {},
   "outputs": [],
   "source": [
    "## Cost functions\n",
    "\n",
    "## Mean Square error cost function\n",
    "def mse(pred,yy):\n",
    "    return np.mean((pred-yy)**2)\n",
    "\n",
    "## mLogloss for multi-classification\n",
    "def mlogloss(pred, yy):\n",
    "    yy = np.int_(yy)\n",
    "    return -np.mean(np.log(pred[np.arange(len(yy)), yy]))"
   ]
  },
  {
   "cell_type": "code",
   "execution_count": 7,
   "id": "d099baaa-4c1c-4504-b031-b102d4bbcef1",
   "metadata": {},
   "outputs": [
    {
     "name": "stdout",
     "output_type": "stream",
     "text": [
      "Means square for training set(using least square method): 0.05145419928189548\n",
      "Means square for validation set(using least square method): 0.06793670471653827\n"
     ]
    }
   ],
   "source": [
    "## for least square method\n",
    "pred1_train = np.dot(X_train,ww0)+bb0\n",
    "pred2_val = np.dot(X_val,ww0)+bb0\n",
    "print(\"Means square for training set(using least square method):\",mse(pred1_train, yy_train))\n",
    "print(\"Means square for validation set(using least square method):\",mse(pred2_val, yy_val))"
   ]
  },
  {
   "cell_type": "code",
   "execution_count": 8,
   "id": "1417ed8c-9db6-4d8b-98af-2b3fbaab9128",
   "metadata": {},
   "outputs": [],
   "source": [
    "## Defining the softmax function\n",
    "def softmax(x):\n",
    "    \n",
    "    # subtracting the max of z for numerical stability.\n",
    "    res = np.exp(x - np.max(x))\n",
    "    \n",
    "    # Calculating softmax for all examples.\n",
    "    for i in range(len(x)):\n",
    "        res[i] /= np.sum(res[i])\n",
    "        \n",
    "    return res\n",
    "\n",
    "## Defining one-hot encoder\n",
    "def one_hot(yy, c):\n",
    "    yy = np.int_(yy)\n",
    "    yy_hot = np.zeros((len(yy), c))\n",
    "    yy_hot[np.arange(len(yy)), yy] = 1\n",
    "\n",
    "    return yy_hot\n",
    "\n",
    "\n",
    "\n",
    "\n",
    "## Simple gradient descent method for linear regression\n",
    "\n",
    "def grad_des(X_train, yy_train, learning_rate, epochs):\n",
    "    n=len(X_train)\n",
    "    ww = np.random.randn(len(X[1]))\n",
    "    bb = 0\n",
    "\n",
    "    for i in range(epochs):\n",
    "        yy_pred = np.dot(X_train, ww)+bb\n",
    "        \n",
    "        \n",
    "        cost = mse(yy_pred, yy_train)\n",
    "        if i%100==0:\n",
    "            print(\"MSE(train) for {0}th epoch is {1}\".format(i, cost))\n",
    "        D_ww = -2/n * np.sum(np.transpose(X_train) * (yy_train-yy_pred)) \n",
    "        D_bb = -2/n * np.sum((yy_train-yy_pred))\n",
    "        \n",
    "        ## Updating the parameters\n",
    "        ww -=learning_rate*D_ww\n",
    "        bb -=learning_rate*D_bb\n",
    "        \n",
    "        ## plotting the cost w.r.t to each iteration\n",
    "        plt.scatter(i, cost)\n",
    "        plt.xlabel(\"Iterations\")\n",
    "        plt.ylabel(\"Cost\")\n",
    "        \n",
    "## Gradient descent for softmax algorithm\n",
    "def grad_des_multi(X_train, yy_train, C, learning_rate, epochs):\n",
    "    N, M = X_train.shape\n",
    "    ww = np.random.randn(M,C)\n",
    "    bb = np.zeros(C)\n",
    "    cost =[]\n",
    "    for i in range(epochs):\n",
    "        yy_pred = softmax(np.dot(X_train, ww)+bb)\n",
    "        \n",
    "        yy_hot = one_hot(yy_train, C)\n",
    "        \n",
    "        ## Gradient of mlog-loss w.r.t ww and bb\n",
    "        D_ww = (1/N) * np.dot(np.transpose(X_train),(yy_pred - yy_hot))\n",
    "        D_bb = (1/N) * np.sum(yy_pred - yy_hot)\n",
    "        \n",
    "        ## Updating the parameters\n",
    "        \n",
    "        ww = ww - learning_rate * D_ww\n",
    "        bb = bb - learning_rate * D_bb\n",
    "        \n",
    "\n",
    "        loss = mlogloss(yy_pred, yy_train)\n",
    "        cost.append(loss)\n",
    "        if i%1000==0:\n",
    "            print(\"loss for {0}th epoch => {1}\".format(i, loss))\n",
    "        plt.scatter(i, loss)\n",
    "        plt.xlabel(\"Iterations\")\n",
    "        plt.ylabel(\"Cost\")\n",
    "    return cost, ww, bb\n",
    "        \n",
    "    "
   ]
  },
  {
   "cell_type": "code",
   "execution_count": 9,
   "id": "83daff05-fb08-47d6-9b15-96a042f5d164",
   "metadata": {},
   "outputs": [
    {
     "name": "stdout",
     "output_type": "stream",
     "text": [
      "loss for 0th epoch => 1.0947858881917854\n",
      "loss for 1000th epoch => 0.4043436166514182\n",
      "loss for 2000th epoch => 0.3820509427936063\n",
      "loss for 3000th epoch => 0.3732698052100391\n",
      "loss for 4000th epoch => 0.3690540993889846\n",
      "loss for 5000th epoch => 0.36678030850908405\n",
      "loss for 6000th epoch => 0.36544011248634445\n",
      "loss for 7000th epoch => 0.36458725790387075\n",
      "loss for 8000th epoch => 0.3640052522696965\n",
      "loss for 9000th epoch => 0.36358191024387876\n"
     ]
    },
    {
     "data": {
      "image/png": "[encoded data removed]",
      "text/plain": [
       "<Figure size 432x288 with 1 Axes>"
      ]
     },
     "metadata": {
      "needs_background": "light"
     },
     "output_type": "display_data"
    }
   ],
   "source": [
    "## Total no of iteration to do\n",
    "epochs = 10000\n",
    "\n",
    "#grad_des(X_train, yy_train, 0.1, epochs)\n",
    "\n",
    "C = 3   ## No. of classes\n",
    "\n",
    "## Extracting the required parameters \n",
    "cost, ww, bb = grad_des_multi(X_train, yy_train, C, 0.8, epochs)\n",
    "\n",
    "\n",
    "\n"
   ]
  },
  {
   "cell_type": "code",
   "execution_count": 10,
   "id": "375b0f59-b39c-42c2-a576-e7e1f79f77d0",
   "metadata": {},
   "outputs": [],
   "source": [
    "## Making predictions using the weights and bias found\n",
    "def predict_class(X, ww, bb):\n",
    "    return np.argmax(softmax(np.dot(X, ww)+ bb), axis=1)\n",
    "\n",
    "\n",
    "\n",
    "## Prediction for train, validation and test Data\n",
    "predc_train = predict_class(X_train, ww, bb)\n",
    "predc_val = predict_class(X_val, ww, bb)\n",
    "predc_test = predict_class(X_test, ww, bb)\n",
    "\n",
    "\n",
    "\n",
    "## Getting the accuracy of the model\n",
    "def accuracy(yy_pred, yy):\n",
    "    return 100*np.sum(yy_pred==yy)/len(yy)\n",
    "\n"
   ]
  },
  {
   "cell_type": "code",
   "execution_count": 11,
   "id": "6a0fe056-c2f9-4062-987c-6e955acc76f5",
   "metadata": {},
   "outputs": [
    {
     "name": "stdout",
     "output_type": "stream",
     "text": [
      "Accuracy on Train Data is: 84.0%\n",
      "Accuracy on Validation Data is: 80.0%\n",
      "Accuracy on Test Data is: 80.0%\n"
     ]
    }
   ],
   "source": [
    "print(\"Accuracy on Train Data is: {0}%\".format(accuracy(predc_train, yy_train)))\n",
    "print(\"Accuracy on Validation Data is: {0}%\".format(accuracy(predc_val, yy_val)))\n",
    "print(\"Accuracy on Test Data is: {0}%\".format(accuracy(predc_test, yy_test)))"
   ]
  },
  {
   "cell_type": "code",
   "execution_count": 12,
   "id": "5c4d3397-8b29-4d6d-9f25-a8c1c9a10086",
   "metadata": {},
   "outputs": [
    {
     "name": "stdout",
     "output_type": "stream",
     "text": [
      "Accuracy on Test Train is: 93.0%\n",
      "Accuracy on Validation Data is: 90.0%\n",
      "Accuracy on Test Data is: 100.0%\n"
     ]
    }
   ],
   "source": [
    "## Softamx regression using inbuilt functions\n",
    "\n",
    "from sklearn.linear_model import LogisticRegression\n",
    "from sklearn.metrics import f1_score\n",
    "from sklearn.metrics import confusion_matrix\n",
    "\n",
    "## Fitting the model to inbuilt functions\n",
    "softReg = LogisticRegression(multi_class = 'multinomial', solver = 'lbfgs')\n",
    "softReg.fit(X_train, yy_train)\n",
    "\n",
    "## Making predictions using softreg.predict\n",
    "y_pred_train = softReg.predict(X_train)\n",
    "y_pred_val = softReg.predict(X_val)\n",
    "y_pred_test = softReg.predict(X_test)\n",
    "\n",
    "print(\"Accuracy on Test Train is: {0}%\".format(100*np.sum(y_pred_train==yy_train)/len(yy_train)))\n",
    "print(\"Accuracy on Validation Data is: {0}%\".format(100*np.sum(y_pred_val==yy_val)/len(yy_val)))\n",
    "print(\"Accuracy on Test Data is: {0}%\".format(100*np.sum(y_pred_test==yy_test)/len(yy_test)))"
   ]
  },
  {
   "cell_type": "code",
   "execution_count": 19,
   "id": "b9902c80-cbae-4781-85e9-5a00e8a63eec",
   "metadata": {},
   "outputs": [
    {
     "name": "stdout",
     "output_type": "stream",
     "text": [
      "Accuracy for 0th epoch => 34.0%\n",
      "Accuracy for 100th epoch => 78.0%\n",
      "Accuracy for 200th epoch => 81.0%\n",
      "Accuracy for 300th epoch => 84.0%\n",
      "Accuracy for 400th epoch => 88.0%\n",
      "Accuracy for 500th epoch => 90.0%\n",
      "Accuracy for 600th epoch => 94.0%\n",
      "Accuracy for 700th epoch => 95.0%\n",
      "Accuracy for 800th epoch => 97.0%\n",
      "Accuracy for 900th epoch => 97.0%\n"
     ]
    },
    {
     "data": {
      "image/png": "[encoded data removed]",
      "text/plain": [
       "<Figure size 432x288 with 1 Axes>"
      ]
     },
     "metadata": {
      "needs_background": "light"
     },
     "output_type": "display_data"
    }
   ],
   "source": [
    "## Building a two layer Neural Network for better performance\n",
    "\n",
    "## Defining RELU to add non-linearity\n",
    "def relu(x):\n",
    "    x = np.int_(x)\n",
    "    return np.maximum(0,x)\n",
    "\n",
    "## Defining the derivative of relu\n",
    "def D_relu(a):\n",
    "    return a>0\n",
    "\n",
    "## Defining function to get predictions\n",
    "def predict_classNN(A2):\n",
    "    return np.argmax(A2, axis=1)\n",
    "\n",
    "## defining the values for initial parameters\n",
    "def initial_params():\n",
    "    ww1 = np.random.randn(len(X_train[1]), 20)\n",
    "    bb1 = np.zeros((20))\n",
    "    \n",
    "    ww2 = np.random.randn(20, 3)\n",
    "    bb2 = np.zeros((3))\n",
    "    \n",
    "    return  ww1, bb1, ww2, bb2\n",
    "\n",
    "\n",
    "## Function to do Forward propagation\n",
    "def forward_prop(X, ww1, ww2, bb1, bb2, pred= False):\n",
    "    h1 = np.dot(X, ww1)+ bb1\n",
    "    A1 = relu(h1)\n",
    "    h2 = np.dot(h1, ww2)+ bb2\n",
    "    A2 = softmax(h2)\n",
    "    if pred:\n",
    "        return A2\n",
    "    return h1, h2, A1, A2\n",
    "\n",
    "## Function to do Backward propagation\n",
    "def backward_prop(X, yy, h1, h2, A1, A2, ww2):\n",
    "    N = len(yy)\n",
    "    yy = one_hot(yy, 3)\n",
    "    dh2 = A2 - yy\n",
    "    dww2 = 1/N * np.dot(np.transpose(A1), dh2)\n",
    "    dbb2 = 1/N * np.sum(dh2)\n",
    "    \n",
    "    dh1 = np.dot(dh2, np.transpose(ww2)) * D_relu(h1)\n",
    "    dww1 = 1/N * np.dot(np.transpose(X), dh1)\n",
    "    dbb1 = 1/N * np.sum(dh1)\n",
    "    \n",
    "    return dww1, dww2, dbb1, dbb2\n",
    "\n",
    "## Updating the parameters after doing backward prop\n",
    "def update_param(ww1, ww2, bb1, bb2, dww1, dww2, dbb1, dbb2, step_size):\n",
    "    ww1 = ww1 - step_size* dww1\n",
    "    ww2 = ww2 - step_size* dww2\n",
    "    \n",
    "    bb1 = bb1 - step_size* dbb1\n",
    "    bb2 = bb2 - step_size* dbb2\n",
    "    \n",
    "    return ww1, ww2, bb1, bb2\n",
    "\n",
    "## Defining a gradient descent helper for Neural Network \n",
    "def gradient_desc_nn(X, yy, ww1, bb1, ww2, bb2, epochs, step_size, pred):\n",
    "    \n",
    "    for i in range(epochs):\n",
    "        h1, h2, A1, A2 = forward_prop(X, ww1, ww2, bb1, bb2)\n",
    "\n",
    "        dww1, dww2, dbb1, dbb2 = backward_prop(X, yy, h1, h2, A1, A2, ww2)\n",
    "        ww1, ww2, bb1, bb2 = update_param(ww1, ww2, bb1, bb2, dww1, dww2, dbb1, dbb2, step_size)\n",
    "        \n",
    "        accu = accuracy(predict_classNN(A2), yy)\n",
    "        if i%100==0:\n",
    "            print(\"Accuracy for {0}th epoch => {1}%\".format(i, accu))\n",
    "            \n",
    "        plt.scatter(i,accu)\n",
    "        plt.xlabel(\"Iteration\")\n",
    "        plt.ylabel(\"Accuracy\")\n",
    "    \n",
    "    return ww1, ww2, bb1, bb2    \n",
    "        \n",
    "ww1, bb1, ww2, bb2 = initial_params()   ## initializing the params\n",
    "\n",
    "## Extracting the params\n",
    "ww1, ww2, bb1, bb2 = gradient_desc_nn(X_train, yy_train, ww1, bb1, ww2, bb2, 1000, 0.1, True)    \n",
    "\n"
   ]
  },
  {
   "cell_type": "code",
   "execution_count": 20,
   "id": "c30333ac-4cfa-41fa-aeda-8b1d486657d6",
   "metadata": {},
   "outputs": [
    {
     "name": "stdout",
     "output_type": "stream",
     "text": [
      "Accuracy on Validation Data is: 90.0%\n",
      "Accuracy on Test Data is: 100.0%\n"
     ]
    }
   ],
   "source": [
    "## getting predictions for validation and test set for fitted NN\n",
    "pred_valnn = predict_classNN(forward_prop(X_val, ww1, ww2, bb1, bb2, True))\n",
    "pred_testnn = predict_classNN(forward_prop(X_test, ww1, ww2, bb1, bb2, True))\n",
    "\n",
    "\n",
    "print(\"Accuracy on Validation Data is: {0}%\".format(accuracy(pred_valnn, yy_val)))\n",
    "print(\"Accuracy on Test Data is: {0}%\".format(accuracy(pred_testnn, yy_test)))"
   ]
  },
  {
   "cell_type": "code",
   "execution_count": null,
   "id": "bb4af00e-edf5-405a-95b1-23e2b65f6a96",
   "metadata": {},
   "outputs": [],
   "source": []
  }
 ],
 "metadata": {
  "kernelspec": {
   "display_name": "Python 3 (ipykernel)",
   "language": "python",
   "name": "python3"
  },
  "language_info": {
   "codemirror_mode": {
    "name": "ipython",
    "version": 3
   },
   "file_extension": ".py",
   "mimetype": "text/x-python",
   "name": "python",
   "nbconvert_exporter": "python",
   "pygments_lexer": "ipython3",
   "version": "3.9.12"
  }
 },
 "nbformat": 4,
 "nbformat_minor": 5
}
