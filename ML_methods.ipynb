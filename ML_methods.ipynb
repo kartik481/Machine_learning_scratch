{
 "cells": [
  {
   "cell_type": "code",
   "execution_count": 224,
   "id": "124e9f66-7a03-4279-a86c-3ade7859ab8b",
   "metadata": {},
   "outputs": [],
   "source": [
    "import numpy as np\n",
    "import pandas as pd\n",
    "import matplotlib.pyplot as plt\n",
    "import seaborn as sns\n",
    "from sklearn import datasets\n",
    "from sklearn.preprocessing import MinMaxScaler\n",
    "\n",
    "iris = datasets.load_iris()"
   ]
  },
  {
   "cell_type": "code",
   "execution_count": 225,
   "id": "5ec04118-c8c0-4e0b-aac2-5f1bdfd0b3ff",
   "metadata": {},
   "outputs": [],
   "source": [
    "X = np.array(iris.data)\n",
    "yy = np.array(iris.target)\n",
    "\n",
    "## Scaling the data to make gradient descent work smoothly\n",
    "scaler = MinMaxScaler()\n",
    "scaler.fit(X)\n",
    "X_scaled = scaler.transform(X)\n",
    "X = (X - X.min(axis=0)) / (X.max(axis=0) - X.min(axis=0))"
   ]
  },
  {
   "cell_type": "code",
   "execution_count": 226,
   "id": "1a8269b1-fc21-477d-891b-8a66d2a20b74",
   "metadata": {},
   "outputs": [
    {
     "data": {
      "text/plain": [
       "<matplotlib.collections.PathCollection at 0x7fceb016ac10>"
      ]
     },
     "execution_count": 226,
     "metadata": {},
     "output_type": "execute_result"
    },
    {
     "data": {
      "image/png": "[encoded data removed]",
      "text/plain": [
       "<Figure size 432x288 with 1 Axes>"
      ]
     },
     "metadata": {},
     "output_type": "display_data"
    }
   ],
   "source": [
    "plt.scatter(X[:,1],X[:,3], c=yy)"
   ]
  },
  {
   "cell_type": "code",
   "execution_count": 227,
   "id": "8ec43a6e-6e13-46f7-9446-afdf314d58e8",
   "metadata": {},
   "outputs": [],
   "source": [
    "## Data is already cleaned so no need of preprocessing\n",
    "X_train = X[:100,:]\n",
    "X_val = X[100:130,:]\n",
    "X_test = X[130:150,:]\n",
    "\n",
    "yy_train = yy[:100]\n",
    "yy_val = yy[100:130]\n",
    "yy_test = yy[130:150]\n"
   ]
  },
  {
   "cell_type": "code",
   "execution_count": 228,
   "id": "de351873-2301-4f83-8058-3bd65f48554d",
   "metadata": {},
   "outputs": [],
   "source": [
    "## Linear regression Using the least square method \n",
    "\n",
    "def lin_reg(X, yy, alpha):\n",
    "    k = len(X[1])\n",
    "    yy = np.concatenate((yy, np.zeros(k))) \n",
    "    z_k = np.sqrt(alpha) * np.eye(k)\n",
    "    X = np.vstack((X,z_k))  \n",
    "    \n",
    "    b = np.concatenate((np.ones(len(X)-k), np.zeros(k)))[:,None]\n",
    "\n",
    "    X = np.insert(X,[0],b,axis=1)\n",
    "\n",
    "    w_fit=np.linalg.lstsq(X, yy, rcond=None)[0]\n",
    "    \n",
    "    \n",
    "    return w_fit[1:], w_fit[0] \n",
    "    "
   ]
  },
  {
   "cell_type": "code",
   "execution_count": 229,
   "id": "a8c8a8d6-e16d-4ed1-ae38-be91a202bcb4",
   "metadata": {},
   "outputs": [
    {
     "name": "stdout",
     "output_type": "stream",
     "text": [
      "Bias is: 0.1627669178626844\n",
      "Weights are: \n",
      " [-0.00222321 -0.448918    1.00758936  0.78964089]\n"
     ]
    }
   ],
   "source": [
    "alpha = 0.1\n",
    "\n",
    "ww0, bb0 = lin_reg(X_train, yy_train, alpha)\n",
    "\n",
    "print(\"Bias is:\",bb0)\n",
    "print(\"Weights are:\",\"\\n\",ww0)"
   ]
  },
  {
   "cell_type": "code",
   "execution_count": 230,
   "id": "6d96c880-b7e2-4f95-946c-f9245b06dae1",
   "metadata": {},
   "outputs": [],
   "source": [
    "def mse(pred,yy):\n",
    "    return np.mean((pred-yy)**2)"
   ]
  },
  {
   "cell_type": "code",
   "execution_count": 231,
   "id": "d099baaa-4c1c-4504-b031-b102d4bbcef1",
   "metadata": {},
   "outputs": [
    {
     "name": "stdout",
     "output_type": "stream",
     "text": [
      "Means square for training set(using least square method): 0.009239981546788631\n",
      "Means square for validation set(using least square method): 0.3770600470257607\n"
     ]
    }
   ],
   "source": [
    "## for least square method\n",
    "pred1_train = np.dot(X_train,ww0)+bb0\n",
    "pred2_val = np.dot(X_val,ww0)+bb0\n",
    "print(\"Means square for training set(using least square method):\",mse(pred1_train, yy_train))\n",
    "print(\"Means square for validation set(using least square method):\",mse(pred2_val, yy_val))"
   ]
  },
  {
   "cell_type": "code",
   "execution_count": 232,
   "id": "1417ed8c-9db6-4d8b-98af-2b3fbaab9128",
   "metadata": {},
   "outputs": [],
   "source": [
    "## Defining the gradient descent method\n",
    "\n",
    "def grad_des(learning_rate, ww, bb, epochs):\n",
    "    n=len(X_train)\n",
    "    for i in range(epochs):\n",
    "        yy_pred = np.dot(X_train,ww)+bb\n",
    "        if i%100==0:\n",
    "            print(\"MSE(train) for {0}th epoch is {1}\".format(i,mse(yy_pred, yy_train)))\n",
    "        D_ww = -2/n * np.sum(np.transpose(X_train) * (yy_train-yy_pred))\n",
    "        D_bb = -2/n*np.sum((yy_train-yy_pred))\n",
    "        ww-=learning_rate*D_ww\n",
    "        bb-=learning_rate*D_bb\n",
    "        \n",
    "    "
   ]
  },
  {
   "cell_type": "code",
   "execution_count": 235,
   "id": "83daff05-fb08-47d6-9b15-96a042f5d164",
   "metadata": {},
   "outputs": [
    {
     "name": "stdout",
     "output_type": "stream",
     "text": [
      "MSE(train) for 0th epoch is 0.5\n",
      "MSE(train) for 100th epoch is 0.129218167707151\n",
      "MSE(train) for 200th epoch is 0.11396087809062956\n",
      "MSE(train) for 300th epoch is 0.10367370536534856\n",
      "MSE(train) for 400th epoch is 0.09673722534771322\n",
      "MSE(train) for 500th epoch is 0.09206006512790516\n",
      "MSE(train) for 600th epoch is 0.08890632898707615\n",
      "MSE(train) for 700th epoch is 0.08677981392696571\n",
      "MSE(train) for 800th epoch is 0.08534593800997552\n",
      "MSE(train) for 900th epoch is 0.08437909785732792\n",
      "MSE(train) for 1000th epoch is 0.08372717263165445\n",
      "MSE(train) for 1100th epoch is 0.08328758962643318\n",
      "MSE(train) for 1200th epoch is 0.08299118566648557\n",
      "MSE(train) for 1300th epoch is 0.08279132510220283\n",
      "MSE(train) for 1400th epoch is 0.08265656224288585\n",
      "MSE(train) for 1500th epoch is 0.08256569375006206\n",
      "MSE(train) for 1600th epoch is 0.0825044225435151\n",
      "MSE(train) for 1700th epoch is 0.08246310832518644\n",
      "MSE(train) for 1800th epoch is 0.0824352507925491\n",
      "MSE(train) for 1900th epoch is 0.08241646689305802\n",
      "MSE(train) for 2000th epoch is 0.08240380120278726\n",
      "MSE(train) for 2100th epoch is 0.08239526092550827\n",
      "MSE(train) for 2200th epoch is 0.08238950234982523\n",
      "MSE(train) for 2300th epoch is 0.08238561943211498\n",
      "MSE(train) for 2400th epoch is 0.08238300124130277\n",
      "MSE(train) for 2500th epoch is 0.08238123583609959\n",
      "MSE(train) for 2600th epoch is 0.0823800454509234\n",
      "MSE(train) for 2700th epoch is 0.08237924279277714\n",
      "MSE(train) for 2800th epoch is 0.08237870157291603\n",
      "MSE(train) for 2900th epoch is 0.08237833663681039\n",
      "MSE(train) for 3000th epoch is 0.08237809056608983\n",
      "MSE(train) for 3100th epoch is 0.08237792464444332\n",
      "MSE(train) for 3200th epoch is 0.08237781276606655\n",
      "MSE(train) for 3300th epoch is 0.08237773732822319\n",
      "MSE(train) for 3400th epoch is 0.08237768646166277\n",
      "MSE(train) for 3500th epoch is 0.08237765216313492\n",
      "MSE(train) for 3600th epoch is 0.08237762903617288\n",
      "MSE(train) for 3700th epoch is 0.0823776134420233\n",
      "MSE(train) for 3800th epoch is 0.0823776029271316\n",
      "MSE(train) for 3900th epoch is 0.08237759583710426\n",
      "MSE(train) for 4000th epoch is 0.08237759105640947\n",
      "MSE(train) for 4100th epoch is 0.08237758783286159\n",
      "MSE(train) for 4200th epoch is 0.08237758565927356\n",
      "MSE(train) for 4300th epoch is 0.08237758419365708\n",
      "MSE(train) for 4400th epoch is 0.08237758320541476\n",
      "MSE(train) for 4500th epoch is 0.08237758253905839\n",
      "MSE(train) for 4600th epoch is 0.08237758208974467\n",
      "MSE(train) for 4700th epoch is 0.08237758178677947\n",
      "MSE(train) for 4800th epoch is 0.08237758158249474\n",
      "MSE(train) for 4900th epoch is 0.08237758144474874\n",
      "MSE(train) for 5000th epoch is 0.08237758135186878\n",
      "MSE(train) for 5100th epoch is 0.08237758128924126\n",
      "MSE(train) for 5200th epoch is 0.08237758124701249\n",
      "MSE(train) for 5300th epoch is 0.08237758121853829\n",
      "MSE(train) for 5400th epoch is 0.08237758119933862\n",
      "MSE(train) for 5500th epoch is 0.08237758118639255\n",
      "MSE(train) for 5600th epoch is 0.08237758117766322\n",
      "MSE(train) for 5700th epoch is 0.08237758117177715\n",
      "MSE(train) for 5800th epoch is 0.08237758116780829\n",
      "MSE(train) for 5900th epoch is 0.08237758116513216\n",
      "MSE(train) for 6000th epoch is 0.08237758116332765\n",
      "MSE(train) for 6100th epoch is 0.0823775811621109\n",
      "MSE(train) for 6200th epoch is 0.08237758116129049\n",
      "MSE(train) for 6300th epoch is 0.08237758116073729\n",
      "MSE(train) for 6400th epoch is 0.0823775811603643\n",
      "MSE(train) for 6500th epoch is 0.08237758116011276\n",
      "MSE(train) for 6600th epoch is 0.08237758115994316\n",
      "MSE(train) for 6700th epoch is 0.08237758115982881\n",
      "MSE(train) for 6800th epoch is 0.0823775811597517\n",
      "MSE(train) for 6900th epoch is 0.0823775811596997\n",
      "MSE(train) for 7000th epoch is 0.08237758115966466\n",
      "MSE(train) for 7100th epoch is 0.08237758115964101\n",
      "MSE(train) for 7200th epoch is 0.08237758115962507\n",
      "MSE(train) for 7300th epoch is 0.08237758115961431\n",
      "MSE(train) for 7400th epoch is 0.08237758115960707\n",
      "MSE(train) for 7500th epoch is 0.08237758115960217\n",
      "MSE(train) for 7600th epoch is 0.08237758115959888\n",
      "MSE(train) for 7700th epoch is 0.0823775811595967\n",
      "MSE(train) for 7800th epoch is 0.08237758115959518\n",
      "MSE(train) for 7900th epoch is 0.08237758115959419\n",
      "MSE(train) for 8000th epoch is 0.08237758115959348\n",
      "MSE(train) for 8100th epoch is 0.08237758115959304\n",
      "MSE(train) for 8200th epoch is 0.0823775811595927\n",
      "MSE(train) for 8300th epoch is 0.08237758115959251\n",
      "MSE(train) for 8400th epoch is 0.08237758115959239\n",
      "MSE(train) for 8500th epoch is 0.08237758115959229\n",
      "MSE(train) for 8600th epoch is 0.08237758115959222\n",
      "MSE(train) for 8700th epoch is 0.08237758115959216\n",
      "MSE(train) for 8800th epoch is 0.08237758115959214\n",
      "MSE(train) for 8900th epoch is 0.08237758115959211\n",
      "MSE(train) for 9000th epoch is 0.0823775811595921\n",
      "MSE(train) for 9100th epoch is 0.0823775811595921\n",
      "MSE(train) for 9200th epoch is 0.0823775811595921\n",
      "MSE(train) for 9300th epoch is 0.08237758115959208\n",
      "MSE(train) for 9400th epoch is 0.0823775811595921\n",
      "MSE(train) for 9500th epoch is 0.08237758115959208\n",
      "MSE(train) for 9600th epoch is 0.08237758115959208\n",
      "MSE(train) for 9700th epoch is 0.08237758115959208\n",
      "MSE(train) for 9800th epoch is 0.08237758115959208\n",
      "MSE(train) for 9900th epoch is 0.08237758115959208\n"
     ]
    }
   ],
   "source": [
    "grad_ww = np.zeros(len(X[1]))\n",
    "grad_bb = 0\n",
    "epochs = 10000\n",
    "grad_des(0.01, grad_ww , grad_bb, epochs)"
   ]
  },
  {
   "cell_type": "code",
   "execution_count": 234,
   "id": "375b0f59-b39c-42c2-a576-e7e1f79f77d0",
   "metadata": {},
   "outputs": [
    {
     "name": "stdout",
     "output_type": "stream",
     "text": [
      "MSE validation set(using gradient method): 0.14460991025785574\n",
      "MSE test set(using gradient method): 0.10828080849839088\n"
     ]
    }
   ],
   "source": [
    "pred_val_grad = np.dot(X_val,grad_ww)+grad_bb\n",
    "pred_test_grad = np.dot(X_test,grad_ww)+grad_bb\n",
    "\n",
    "print(\"MSE validation set(using gradient method):\",mse(pred_val_grad, yy_val))\n",
    "print(\"MSE test set(using gradient method):\",mse(pred_test_grad, yy_test))"
   ]
  },
  {
   "cell_type": "code",
   "execution_count": null,
   "id": "6a0fe056-c2f9-4062-987c-6e955acc76f5",
   "metadata": {},
   "outputs": [],
   "source": [
    "## Bayesian linear regression...."
   ]
  },
  {
   "cell_type": "code",
   "execution_count": null,
   "id": "5c4d3397-8b29-4d6d-9f25-a8c1c9a10086",
   "metadata": {},
   "outputs": [],
   "source": []
  }
 ],
 "metadata": {
  "kernelspec": {
   "display_name": "Python 3 (ipykernel)",
   "language": "python",
   "name": "python3"
  },
  "language_info": {
   "codemirror_mode": {
    "name": "ipython",
    "version": 3
   },
   "file_extension": ".py",
   "mimetype": "text/x-python",
   "name": "python",
   "nbconvert_exporter": "python",
   "pygments_lexer": "ipython3",
   "version": "3.9.12"
  }
 },
 "nbformat": 4,
 "nbformat_minor": 5
}
